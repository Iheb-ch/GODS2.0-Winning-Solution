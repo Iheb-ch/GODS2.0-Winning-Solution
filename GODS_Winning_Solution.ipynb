{
  "cells": [
    {
      "cell_type": "markdown",
      "metadata": {
        "id": "3WGA0Ps1yHOg"
      },
      "source": [
        "# GODS 2.0 Reacher Solution"
      ]
    },
    {
      "cell_type": "markdown",
      "metadata": {
        "id": "KTnrKd2eG30y"
      },
      "source": [
        "# Setup"
      ]
    },
    {
      "cell_type": "code",
      "execution_count": 1,
      "metadata": {
        "execution": {
          "iopub.execute_input": "2023-02-19T07:11:16.686861Z",
          "iopub.status.busy": "2023-02-19T07:11:16.686122Z",
          "iopub.status.idle": "2023-02-19T07:11:39.071344Z",
          "shell.execute_reply": "2023-02-19T07:11:39.070130Z",
          "shell.execute_reply.started": "2023-02-19T07:11:16.686759Z"
        },
        "id": "n0XgpWOjG5Lw",
        "trusted": true
      },
      "outputs": [],
      "source": [
        "%%capture\n",
        "!pip install catboost logzero"
      ]
    },
    {
      "cell_type": "markdown",
      "metadata": {
        "id": "AvX-PZSlHBhE"
      },
      "source": [
        "# Imports"
      ]
    },
    {
      "cell_type": "code",
      "execution_count": 2,
      "metadata": {
        "execution": {
          "iopub.execute_input": "2023-02-19T07:11:39.073499Z",
          "iopub.status.busy": "2023-02-19T07:11:39.073193Z",
          "iopub.status.idle": "2023-02-19T07:11:40.836498Z",
          "shell.execute_reply": "2023-02-19T07:11:40.834962Z",
          "shell.execute_reply.started": "2023-02-19T07:11:39.073472Z"
        },
        "id": "YwniecdJF4TT",
        "trusted": true
      },
      "outputs": [],
      "source": [
        "import pandas as  pd \n",
        "import numpy as np \n",
        "import os \n",
        "import random\n",
        "import requests, zipfile\n",
        "\n",
        "from lightgbm import LGBMClassifier\n",
        "import xgboost as xgb\n",
        "from catboost import CatBoostClassifier\n",
        "\n",
        "from sklearn.model_selection import KFold,StratifiedKFold,GroupKFold\n",
        "\n",
        "from sklearn.metrics import hamming_loss\n",
        "from logzero import logger\n",
        "\n",
        "import matplotlib.pyplot as plt\n",
        "import seaborn as sns\n",
        "\n",
        "pd.set_option('display.max_columns', None)\n",
        "import warnings\n",
        "warnings.filterwarnings('ignore')"
      ]
    },
    {
      "cell_type": "markdown",
      "metadata": {
        "id": "UU02wmReHJN4"
      },
      "source": [
        "# Download Data"
      ]
    },
    {
      "cell_type": "code",
      "execution_count": 3,
      "metadata": {
        "execution": {
          "iopub.execute_input": "2023-02-19T07:11:40.840285Z",
          "iopub.status.busy": "2023-02-19T07:11:40.839971Z",
          "iopub.status.idle": "2023-02-19T07:11:40.846556Z",
          "shell.execute_reply": "2023-02-19T07:11:40.845389Z",
          "shell.execute_reply.started": "2023-02-19T07:11:40.840260Z"
        },
        "id": "Hp8vMTsAGani",
        "trusted": true
      },
      "outputs": [],
      "source": [
        "def download(file):\n",
        "  #the url and auth_value from the website \n",
        "  url = f\"https://api.zindi.africa/v1/competitions/operating-system-and-browser-identification-in-tls-traffic/files/{file}\"\n",
        "  \n",
        "  # PS : change auth token with yours\n",
        "  myobj = {'auth_token': \"x7nYdKyCrmLZfSkD3GJBxNkQ\"} \n",
        "  x = requests.post(url, data = myobj,stream=True)\n",
        "  target_path = file\n",
        "\n",
        "  handle = open(target_path, \"wb\")\n",
        "  for chunk in x.iter_content(chunk_size=512):\n",
        "      if chunk:  # filter out keep-alive new chunks\n",
        "          handle.write(chunk)\n",
        "  handle.close()"
      ]
    },
    {
      "cell_type": "code",
      "execution_count": 4,
      "metadata": {
        "execution": {
          "iopub.execute_input": "2023-02-19T07:11:40.850329Z",
          "iopub.status.busy": "2023-02-19T07:11:40.849985Z",
          "iopub.status.idle": "2023-02-19T07:11:51.174737Z",
          "shell.execute_reply": "2023-02-19T07:11:51.173227Z",
          "shell.execute_reply.started": "2023-02-19T07:11:40.850304Z"
        },
        "id": "l_MzJvZxGakE",
        "trusted": true
      },
      "outputs": [],
      "source": [
        "download('Test.zip')\n",
        "download('Train_one_hot.zip')\n",
        "download('SampleSubmission.csv')"
      ]
    },
    {
      "cell_type": "code",
      "execution_count": 5,
      "metadata": {
        "execution": {
          "iopub.execute_input": "2023-02-19T07:11:51.177177Z",
          "iopub.status.busy": "2023-02-19T07:11:51.176853Z",
          "iopub.status.idle": "2023-02-19T07:11:56.401422Z",
          "shell.execute_reply": "2023-02-19T07:11:56.400488Z",
          "shell.execute_reply.started": "2023-02-19T07:11:51.177153Z"
        },
        "id": "IfhmuLkmr9BZ",
        "trusted": true
      },
      "outputs": [],
      "source": [
        "%%capture\n",
        "!unzip Test.zip"
      ]
    },
    {
      "cell_type": "code",
      "execution_count": 6,
      "metadata": {
        "execution": {
          "iopub.execute_input": "2023-02-19T07:11:56.402824Z",
          "iopub.status.busy": "2023-02-19T07:11:56.402517Z",
          "iopub.status.idle": "2023-02-19T07:12:06.973307Z",
          "shell.execute_reply": "2023-02-19T07:12:06.971604Z",
          "shell.execute_reply.started": "2023-02-19T07:11:56.402796Z"
        },
        "id": "rwLw_zJJsAI6",
        "trusted": true
      },
      "outputs": [],
      "source": [
        "%%capture\n",
        "!unzip Train_one_hot.zip"
      ]
    },
    {
      "cell_type": "markdown",
      "metadata": {
        "id": "foealJVyHQH5"
      },
      "source": [
        "# Utils"
      ]
    },
    {
      "cell_type": "code",
      "execution_count": 7,
      "metadata": {
        "execution": {
          "iopub.execute_input": "2023-02-19T07:12:06.976800Z",
          "iopub.status.busy": "2023-02-19T07:12:06.976390Z",
          "iopub.status.idle": "2023-02-19T07:12:06.994840Z",
          "shell.execute_reply": "2023-02-19T07:12:06.993414Z",
          "shell.execute_reply.started": "2023-02-19T07:12:06.976768Z"
        },
        "id": "-4XJllUqHQfF",
        "trusted": true
      },
      "outputs": [],
      "source": [
        "import gc\n",
        "def reduce_mem_usage(df):\n",
        "    start_mem = df.memory_usage().sum() / 1024**2\n",
        "    print('Memory usage of dataframe is {:.2f} MB'.format(start_mem))\n",
        "\n",
        "    for col in df.columns:\n",
        "        col_type = df[col].dtype\n",
        "        if col_type != object:\n",
        "                c_min = df[col].min()\n",
        "                c_max = df[col].max()\n",
        "                if str(col_type)[:3] == 'int':\n",
        "                    if c_min > np.iinfo(np.int8).min and c_max < np.iinfo(np.int8).max:\n",
        "                        df[col] = df[col].astype(np.int8)\n",
        "                    elif c_min > np.iinfo(np.uint8).min and c_max < np.iinfo(np.uint8).max:\n",
        "                        df[col] = df[col].astype(np.uint8)\n",
        "                    elif c_min > np.iinfo(np.int16).min and c_max < np.iinfo(np.int16).max:\n",
        "                        df[col] = df[col].astype(np.int16)\n",
        "                    elif c_min > np.iinfo(np.uint16).min and c_max < np.iinfo(np.uint16).max:\n",
        "                        df[col] = df[col].astype(np.uint16)\n",
        "                    elif c_min > np.iinfo(np.int32).min and c_max < np.iinfo(np.int32).max:\n",
        "                        df[col] = df[col].astype(np.int32)\n",
        "                    elif c_min > np.iinfo(np.uint32).min and c_max < np.iinfo(np.uint32).max:\n",
        "                        df[col] = df[col].astype(np.uint32)                    \n",
        "                    elif c_min > np.iinfo(np.int64).min and c_max < np.iinfo(np.int64).max:\n",
        "                        df[col] = df[col].astype(np.int64)\n",
        "                    elif c_min > np.iinfo(np.uint64).min and c_max < np.iinfo(np.uint64).max:\n",
        "                        df[col] = df[col].astype(np.uint64)\n",
        "                elif str(col_type)[:5] == 'float':\n",
        "                    if c_min > np.finfo(np.float16).min and c_max < np.finfo(np.float16).max:\n",
        "                        df[col] = df[col].astype(np.float16)\n",
        "                    elif c_min > np.finfo(np.float32).min and c_max < np.finfo(np.float32).max:\n",
        "                        df[col] = df[col].astype(np.float32)\n",
        "                    else:\n",
        "                        df[col] = df[col].astype(np.float64)\n",
        "    \n",
        "    end_mem = df.memory_usage().sum() / 1024**2\n",
        "    gc.collect()\n",
        "    print('Memory usage after optimization is: {:.2f} MB'.format(end_mem))\n",
        "    print('Decreased by {:.1f}%'.format(100 * (start_mem - end_mem) / start_mem))\n",
        "    return df"
      ]
    },
    {
      "cell_type": "code",
      "execution_count": 8,
      "metadata": {
        "execution": {
          "iopub.execute_input": "2023-02-19T07:12:06.997173Z",
          "iopub.status.busy": "2023-02-19T07:12:06.996814Z",
          "iopub.status.idle": "2023-02-19T07:12:08.682890Z",
          "shell.execute_reply": "2023-02-19T07:12:08.681962Z",
          "shell.execute_reply.started": "2023-02-19T07:12:06.997144Z"
        },
        "id": "DLO53JMeHUBU",
        "trusted": true
      },
      "outputs": [],
      "source": [
        "# Set the seed value all over the place to make this reproducible.\n",
        "def seed_all(SEED=42):\n",
        "  random.seed(SEED)\n",
        "\n",
        "  np.random.seed(SEED)\n",
        "  os.environ['PYTHONHASHSEED'] = str(SEED)"
      ]
    },
    {
      "cell_type": "code",
      "execution_count": 9,
      "metadata": {
        "execution": {
          "iopub.execute_input": "2023-02-19T07:12:08.684935Z",
          "iopub.status.busy": "2023-02-19T07:12:08.684214Z",
          "iopub.status.idle": "2023-02-19T07:12:10.249572Z",
          "shell.execute_reply": "2023-02-19T07:12:10.248330Z",
          "shell.execute_reply.started": "2023-02-19T07:12:08.684877Z"
        },
        "id": "5x5ljJNFHWAT",
        "trusted": true
      },
      "outputs": [],
      "source": [
        "seed_all()"
      ]
    },
    {
      "cell_type": "markdown",
      "metadata": {
        "id": "OKEdG4diHYMx"
      },
      "source": [
        "# Configs"
      ]
    },
    {
      "cell_type": "code",
      "execution_count": 10,
      "metadata": {
        "execution": {
          "iopub.execute_input": "2023-02-19T07:12:10.253443Z",
          "iopub.status.busy": "2023-02-19T07:12:10.252778Z",
          "iopub.status.idle": "2023-02-19T07:12:11.486065Z",
          "shell.execute_reply": "2023-02-19T07:12:11.484544Z",
          "shell.execute_reply.started": "2023-02-19T07:12:10.253404Z"
        },
        "id": "KYA19b77HYa1",
        "trusted": true
      },
      "outputs": [],
      "source": [
        "class CFG :\n",
        "\n",
        "  lgbm_params = {\n",
        "                'learning_rate': 0.05,\n",
        "                'feature_fraction': 0.75,\n",
        "                'num_iterations': 2000,\n",
        "                'feature_fraction' : 0.8\n",
        "                }\n",
        "  \n",
        "  n_splits = 5\n",
        "  folds = StratifiedKFold(n_splits = n_splits)"
      ]
    },
    {
      "cell_type": "markdown",
      "metadata": {
        "id": "aXmmLhO7Hfa8"
      },
      "source": [
        "# Data Processing"
      ]
    },
    {
      "cell_type": "code",
      "execution_count": 28,
      "metadata": {
        "execution": {
          "iopub.execute_input": "2023-02-19T07:12:11.488134Z",
          "iopub.status.busy": "2023-02-19T07:12:11.487704Z",
          "iopub.status.idle": "2023-02-19T07:12:13.043808Z",
          "shell.execute_reply": "2023-02-19T07:12:13.042521Z",
          "shell.execute_reply.started": "2023-02-19T07:12:11.488095Z"
        },
        "id": "4b82O43bHdHC",
        "trusted": true
      },
      "outputs": [],
      "source": [
        "class DataProcessing :\n",
        "  flags = ['ip.dsfield.ecn','ip.flags.df',]\n",
        "  list_cols = ['ip.len','ip.ttl','tcp.offset','tcp.options.timestamp.tsval','tcp.window_size_value',\n",
        "                          'tls.handshake.extensions_length','frame.time_epoch']\n",
        "  tcp_flags = ['CWR','ECE','SYN','ACK','PSH']\n",
        "  cert_curve_uniques = ['prime256v1','secp384r1']\n",
        "  def __init__(self,train,test) :\n",
        "    self.train = train\n",
        "    self.test  = test\n",
        "\n",
        "  def process_list_cols(self,data) :\n",
        "    for col in self.list_cols :\n",
        "      #cleaning \n",
        "      data[col] = data[col].apply(lambda x : x.strip('[').strip(']').split(', '))\n",
        "      data[col] = data[col].apply(lambda x : [\"'0'\" if y==\"''\" else y for y in x])\n",
        "      data[col] =data[col].apply(lambda x : [float(y.strip(\"'\")) for y in x])\n",
        "      #statistics features\n",
        "      data[f'{col}_max'] = data[f'{col}'].apply(lambda x : np.max(x))\n",
        "\n",
        "      data[f'{col}_min'] = data[f'{col}'].apply(lambda x : np.min(x))\n",
        "\n",
        "      data[f'{col}_len'] = data[f'{col}'].apply(lambda x : len(x))\n",
        "\n",
        "      data[f'{col}_mean'] = data[f'{col}'].apply(lambda x : np.mean(x))\n",
        "\n",
        "      data[f'{col}_median'] = data[f'{col}'].apply(lambda x : np.median(x))\n",
        "\n",
        "      data[f'{col}_std'] = data[f'{col}'].apply(lambda x : np.std(x))\n",
        "    \n",
        "    return data\n",
        "  \n",
        "  def process_flags_cols(self,data) :\n",
        "\n",
        "    for c in self.flags :\n",
        "      if c=='ip.dsfield.ecn' :\n",
        "        data[f'{c}'] = data[f'{c}'].apply(lambda x : x.strip('[').strip(']').split(', '))\n",
        "        data[f'{c}'] = data[f'{c}'].apply(lambda x : [int(y.strip(\"'\")) for y in x])\n",
        "\n",
        "        data[f'{c}_0_count'] = data[f'{c}'].apply(lambda x : x.count(0) )\n",
        "        data[f'{c}_2_count'] = data[f'{c}'].apply(lambda x : x.count(2) )\n",
        "\n",
        "        data[f'{c}_mean'] = data[f'{c}'].apply(lambda x : np.mean(x) )\n",
        "        data[f'{c}_std'] = data[f'{c}'].apply(lambda x : np.std(x) )\n",
        "      else :\n",
        "        data[f'{c}'] = data[f'{c}'].apply(lambda x : x.strip('[').strip(']').split(', '))\n",
        "        data[f'{c}'] = data[f'{c}'].apply(lambda x : [int(y.strip(\"'\")) for y in x])\n",
        "\n",
        "        data[f'{c}_0_count'] = data[f'{c}'].apply(lambda x : x.count(0) )\n",
        "        data[f'{c}_1_count'] = data[f'{c}'].apply(lambda x : x.count(1) )\n",
        "\n",
        "        data[f'{c}_mean'] = data[f'{c}'].apply(lambda x : np.mean(x) )\n",
        "        data[f'{c}_std'] = data[f'{c}'].apply(lambda x : np.std(x) )\n",
        "\n",
        "    return data\n",
        "  \n",
        "  def process_tcp_flags(self,data) :\n",
        "    \n",
        "    for c in self.tcp_flags :\n",
        "      data[f'tcp_flag_{c}'] = (data['tcp.flags'] ==c)*1\n",
        "      data[f'tcp_flag_{c}_count'] = data['tcp.flags'].apply(lambda x : x.count(c))\n",
        "    return data\n",
        "  def FE(self,data) :\n",
        "    data['tcp.options.timestamp.tsval_diff'] = train['tcp.options.timestamp.tsval_max'] - data['tcp.options.timestamp.tsval_min']\n",
        "\n",
        "    data['packet_directions'] = data['packet_directions'].apply(lambda x : x.strip('[').strip(']').split(', '))\n",
        "    data['packet_directions_I_count'] = data['packet_directions'].apply(lambda x : x.count(\"'I'\") )\n",
        "\n",
        "    data['packet_directions_O_count'] = data['packet_directions'].apply(lambda x : x.count(\"'O'\") )\n",
        "\n",
        "    data['packet_directions_len'] = data['packet_directions'].apply(lambda x : len(x) )\n",
        "    for c in self.cert_curve_uniques : \n",
        "      data[c] = data['cert.curve'].fillna('').str.contains(c)*1\n",
        "\n",
        "    data['cert.curve_len'] = data['cert.curve'].fillna('').apply(lambda x : len(x))\n",
        "    #ohe Encode\n",
        "    tls_vers = ['TLS 1.3','TLS 1.2','Reserved (GREASE)','TLS 1.1','TLS 1.0',]\n",
        "    for c in tls_vers :\n",
        "      data[c] = data['tls.handshake.extensions.supported_version.ch'].str.contains(c)*1\n",
        "    #ohe \n",
        "    tls_ch = ['h2','http/1.1']\n",
        "    for c in tls_vers :\n",
        "      data[c] = data['tls.handshake.extensions_alpn_str.ch'].str.contains(c)*1\n",
        "    #Label enc\n",
        "    sh_mapper = {'http/1.1' :0,'h2':1}\n",
        "    data['tls.handshake.extensions_alpn_str.sh'] = data['tls.handshake.extensions_alpn_str.sh'].map(sh_mapper)\n",
        "    #Label Enc\n",
        "    format_ch_mapper = {\"['0']\" :0,\"['0', '1', '2']\":1}\n",
        "    data['tls.handshake.extensions_ec_point_format.ch'] = data['tls.handshake.extensions_ec_point_format.ch'].map(format_ch_mapper)\n",
        "    data['tls.handshake.extensions_ec_point_format.sh'] = data['tls.handshake.extensions_ec_point_format.sh'].map(format_ch_mapper)\n",
        "    #Label Enc\n",
        "    tls_handshake_mapper = {'TLSv1.2' :0,'TLSv1.3':1}\n",
        "    data['tls.handshake.version.sh'] = data['tls.handshake.version.sh'].map(tls_handshake_mapper)\n",
        "    #ohe\n",
        "    for c in tls_vers :\n",
        "      data[f'tls.record.version.ch_{c}'] = data['tls.record.version.ch'].str.contains(c)*1\n",
        "    return data\n",
        "\n",
        "  def get_tf_idf_feats(self,train,test) :\n",
        "      from sklearn.feature_extraction.text import TfidfVectorizer\n",
        "      vect = TfidfVectorizer(max_features=10,analyzer='char')\n",
        "      feats = vect.fit_transform(train['tls.cipher'])\n",
        "      train = pd.concat([train,pd.DataFrame(feats.todense(),columns=vect.get_feature_names())],1)\n",
        "      test = pd.concat([test,pd.DataFrame(vect.transform(test['tls.cipher']).todense(),columns=vect.get_feature_names())],1)  \n",
        "      return train,test\n",
        "\n",
        "\n",
        "    \n",
        "\n",
        "\n",
        "\n",
        "\n",
        "\n",
        "  \n",
        "\n",
        "  def process(self,) :\n",
        "    self.train = reduce_mem_usage(self.train)\n",
        "    self.test  = reduce_mem_usage(self.test)\n",
        "    logger.info(f\"Processing Data\")\n",
        "    self.train = self.process_list_cols(self.train)\n",
        "    self.test = self.process_list_cols(self.test)\n",
        "\n",
        "    logger.info(f\"Added statistics about tcp tls and ip logs \")\n",
        "    self.train = self.process_flags_cols(self.train)\n",
        "    self.test = self.process_flags_cols(self.test)\n",
        "\n",
        "    logger.info(f\"Added flags features \")\n",
        "\n",
        "    self.train = self.process_tcp_flags(self.train)\n",
        "    self.test = self.process_tcp_flags(self.test)\n",
        "\n",
        "    logger.info(f\"Added tcp flags features \")\n",
        "    logger.info(f\"Feature Engineering \")\n",
        "\n",
        "    self.train = self.FE(self.train)\n",
        "    self.test = self.FE(self.test)\n",
        "    \n",
        "    self.train,self.test = self.get_tf_idf_feats(self.train,self.test)\n",
        "    logger.info(f\"Added TF-IDF Features \")\n",
        "    \n",
        "    # Get \n",
        "        \n",
        "    self.train = reduce_mem_usage(self.train)\n",
        "    self.test  = reduce_mem_usage(self.test)\n",
        "    \n",
        "    return self.train, self.test"
      ]
    },
    {
      "cell_type": "code",
      "execution_count": 29,
      "metadata": {
        "execution": {
          "iopub.execute_input": "2023-02-19T07:12:13.045314Z",
          "iopub.status.busy": "2023-02-19T07:12:13.045046Z",
          "iopub.status.idle": "2023-02-19T07:12:40.549521Z",
          "shell.execute_reply": "2023-02-19T07:12:40.548461Z",
          "shell.execute_reply.started": "2023-02-19T07:12:13.045290Z"
        },
        "id": "FFuXRLZ-H1G-",
        "trusted": true
      },
      "outputs": [],
      "source": [
        "train=pd.read_csv('Train.csv')\n",
        "test=pd.read_csv('Test.csv')"
      ]
    },
    {
      "cell_type": "code",
      "execution_count": null,
      "metadata": {
        "id": "kADWyUb0pNqX"
      },
      "outputs": [],
      "source": [
        "%%time\n",
        "processor = DataProcessing(train,test)\n",
        "train,test = processor.process()"
      ]
    },
    {
      "cell_type": "code",
      "execution_count": 31,
      "metadata": {
        "execution": {
          "iopub.execute_input": "2023-02-19T08:02:51.869329Z",
          "iopub.status.busy": "2023-02-19T08:02:51.868858Z",
          "iopub.status.idle": "2023-02-19T08:02:51.876503Z",
          "shell.execute_reply": "2023-02-19T08:02:51.875007Z",
          "shell.execute_reply.started": "2023-02-19T08:02:51.869293Z"
        },
        "id": "_8YSADeyIlVc",
        "trusted": true
      },
      "outputs": [],
      "source": [
        "CFG.TARGETS = ['linux_centos-7','linux_opensuse-15.4','linux_ubuntu-22.04.1','macos_big-sur','macos_catalina',\n",
        "           'macos_monterey','windows_windows-10','windows_windows-11','windows_windows-7','windows_windows-server-2012',\n",
        "           'windows_windows-server-2012-r2','chrome','edge','firefox','opera'] "
      ]
    },
    {
      "cell_type": "code",
      "execution_count": 40,
      "metadata": {
        "id": "w2mjvz1yqboI"
      },
      "outputs": [],
      "source": [
        "CFG.FEATURES = train.columns.difference(['ID','cert.alt','cert.curve','cert.hash','cert.issuerCN','cert.issuerON','cert.notAfter',\n",
        "'cert.notBefore','cert.publicAlgorithm','cert.publicAlgorithm','cert.serial','cert.subjectCN','cert.subjectON','cert.validDays',\n",
        "'ip.dsfield.dscp','ip.dsfield.ecn','ip.flags.df','ip.id','ip.len','ip.ttl','tcp.flags','tcp.offset','tcp.options.timestamp.tsval',\n",
        "'tcp.window_size_value','tls.cipher','tls.handshake.ciphersuite.ch','tls.handshake.extension.len','tls.handshake.extension.type',\n",
        "'tls.handshake.extensions.supported_version.ch','tls.handshake.extensions_alpn_str.ch','tls.handshake.extensions_alpn_str.sh',\n",
        "'tls.handshake.extensions_length','tls.handshake.extensions_supported_group.ch','tls.handshake.sig_hash_alg.ch','tls.handshake.version.ch','tls.ja3',\n",
        "'tls.ja3s','tls.record.version.ch','frame.time_epoch','packet_directions','OS','browser','cert.remainingDays','tls.handshake.type','tls.handshake.extensions_ec_point_format.ch',\n",
        "'tls.handshake.extensions_ec_point_format.sh','tls.handshake.version.sh'] + CFG.TARGETS).tolist()"
      ]
    },
    {
      "cell_type": "code",
      "execution_count": 41,
      "metadata": {
        "colab": {
          "base_uri": "https://localhost:8080/",
          "height": 419
        },
        "id": "O81mxin0xiuU",
        "outputId": "ecd96cd3-70fb-4a46-fb3e-47ddcf36e0f6"
      },
      "outputs": [
        {
          "data": {
            "text/html": [
              "\n",
              "  <div id=\"df-15572694-3651-452a-92f8-abef246d7247\">\n",
              "    <div class=\"colab-df-container\">\n",
              "      <div>\n",
              "<style scoped>\n",
              "    .dataframe tbody tr th:only-of-type {\n",
              "        vertical-align: middle;\n",
              "    }\n",
              "\n",
              "    .dataframe tbody tr th {\n",
              "        vertical-align: top;\n",
              "    }\n",
              "\n",
              "    .dataframe thead th {\n",
              "        text-align: right;\n",
              "    }\n",
              "</style>\n",
              "<table border=\"1\" class=\"dataframe\">\n",
              "  <thead>\n",
              "    <tr style=\"text-align: right;\">\n",
              "      <th></th>\n",
              "      <th>2</th>\n",
              "      <th>5</th>\n",
              "      <th>_</th>\n",
              "      <th>a</th>\n",
              "      <th>c</th>\n",
              "      <th>e</th>\n",
              "      <th>h</th>\n",
              "      <th>l</th>\n",
              "      <th>s</th>\n",
              "      <th>t</th>\n",
              "    </tr>\n",
              "  </thead>\n",
              "  <tbody>\n",
              "    <tr>\n",
              "      <th>0</th>\n",
              "      <td>0.318604</td>\n",
              "      <td>0.159424</td>\n",
              "      <td>0.637207</td>\n",
              "      <td>0.318604</td>\n",
              "      <td>0.159302</td>\n",
              "      <td>0.187134</td>\n",
              "      <td>0.159302</td>\n",
              "      <td>0.159302</td>\n",
              "      <td>0.478027</td>\n",
              "      <td>0.159302</td>\n",
              "    </tr>\n",
              "    <tr>\n",
              "      <th>1</th>\n",
              "      <td>0.096924</td>\n",
              "      <td>0.097046</td>\n",
              "      <td>0.678711</td>\n",
              "      <td>0.290771</td>\n",
              "      <td>0.193848</td>\n",
              "      <td>0.341553</td>\n",
              "      <td>0.290771</td>\n",
              "      <td>0.096924</td>\n",
              "      <td>0.387695</td>\n",
              "      <td>0.193848</td>\n",
              "    </tr>\n",
              "    <tr>\n",
              "      <th>2</th>\n",
              "      <td>0.318604</td>\n",
              "      <td>0.159424</td>\n",
              "      <td>0.637207</td>\n",
              "      <td>0.318604</td>\n",
              "      <td>0.159302</td>\n",
              "      <td>0.187134</td>\n",
              "      <td>0.159302</td>\n",
              "      <td>0.159302</td>\n",
              "      <td>0.478027</td>\n",
              "      <td>0.159302</td>\n",
              "    </tr>\n",
              "    <tr>\n",
              "      <th>3</th>\n",
              "      <td>0.288574</td>\n",
              "      <td>0.288818</td>\n",
              "      <td>0.433105</td>\n",
              "      <td>0.433105</td>\n",
              "      <td>0.288574</td>\n",
              "      <td>0.000000</td>\n",
              "      <td>0.433105</td>\n",
              "      <td>0.288574</td>\n",
              "      <td>0.288574</td>\n",
              "      <td>0.144287</td>\n",
              "    </tr>\n",
              "    <tr>\n",
              "      <th>4</th>\n",
              "      <td>0.191162</td>\n",
              "      <td>0.095703</td>\n",
              "      <td>0.669434</td>\n",
              "      <td>0.286865</td>\n",
              "      <td>0.191162</td>\n",
              "      <td>0.336914</td>\n",
              "      <td>0.286865</td>\n",
              "      <td>0.095581</td>\n",
              "      <td>0.382324</td>\n",
              "      <td>0.191162</td>\n",
              "    </tr>\n",
              "    <tr>\n",
              "      <th>...</th>\n",
              "      <td>...</td>\n",
              "      <td>...</td>\n",
              "      <td>...</td>\n",
              "      <td>...</td>\n",
              "      <td>...</td>\n",
              "      <td>...</td>\n",
              "      <td>...</td>\n",
              "      <td>...</td>\n",
              "      <td>...</td>\n",
              "      <td>...</td>\n",
              "    </tr>\n",
              "    <tr>\n",
              "      <th>324094</th>\n",
              "      <td>0.096924</td>\n",
              "      <td>0.097046</td>\n",
              "      <td>0.678711</td>\n",
              "      <td>0.290771</td>\n",
              "      <td>0.193848</td>\n",
              "      <td>0.341553</td>\n",
              "      <td>0.290771</td>\n",
              "      <td>0.096924</td>\n",
              "      <td>0.387695</td>\n",
              "      <td>0.193848</td>\n",
              "    </tr>\n",
              "    <tr>\n",
              "      <th>324095</th>\n",
              "      <td>0.165771</td>\n",
              "      <td>0.165894</td>\n",
              "      <td>0.663086</td>\n",
              "      <td>0.331543</td>\n",
              "      <td>0.165771</td>\n",
              "      <td>0.194702</td>\n",
              "      <td>0.165771</td>\n",
              "      <td>0.165771</td>\n",
              "      <td>0.497314</td>\n",
              "      <td>0.165771</td>\n",
              "    </tr>\n",
              "    <tr>\n",
              "      <th>324096</th>\n",
              "      <td>0.318604</td>\n",
              "      <td>0.159424</td>\n",
              "      <td>0.637207</td>\n",
              "      <td>0.318604</td>\n",
              "      <td>0.159302</td>\n",
              "      <td>0.187134</td>\n",
              "      <td>0.159302</td>\n",
              "      <td>0.159302</td>\n",
              "      <td>0.478027</td>\n",
              "      <td>0.159302</td>\n",
              "    </tr>\n",
              "    <tr>\n",
              "      <th>324097</th>\n",
              "      <td>0.318604</td>\n",
              "      <td>0.159424</td>\n",
              "      <td>0.637207</td>\n",
              "      <td>0.318604</td>\n",
              "      <td>0.159302</td>\n",
              "      <td>0.187134</td>\n",
              "      <td>0.159302</td>\n",
              "      <td>0.159302</td>\n",
              "      <td>0.478027</td>\n",
              "      <td>0.159302</td>\n",
              "    </tr>\n",
              "    <tr>\n",
              "      <th>324098</th>\n",
              "      <td>0.288574</td>\n",
              "      <td>0.288818</td>\n",
              "      <td>0.433105</td>\n",
              "      <td>0.433105</td>\n",
              "      <td>0.288574</td>\n",
              "      <td>0.000000</td>\n",
              "      <td>0.433105</td>\n",
              "      <td>0.288574</td>\n",
              "      <td>0.288574</td>\n",
              "      <td>0.144287</td>\n",
              "    </tr>\n",
              "  </tbody>\n",
              "</table>\n",
              "<p>324099 rows × 10 columns</p>\n",
              "</div>\n",
              "      <button class=\"colab-df-convert\" onclick=\"convertToInteractive('df-15572694-3651-452a-92f8-abef246d7247')\"\n",
              "              title=\"Convert this dataframe to an interactive table.\"\n",
              "              style=\"display:none;\">\n",
              "        \n",
              "  <svg xmlns=\"http://www.w3.org/2000/svg\" height=\"24px\"viewBox=\"0 0 24 24\"\n",
              "       width=\"24px\">\n",
              "    <path d=\"M0 0h24v24H0V0z\" fill=\"none\"/>\n",
              "    <path d=\"M18.56 5.44l.94 2.06.94-2.06 2.06-.94-2.06-.94-.94-2.06-.94 2.06-2.06.94zm-11 1L8.5 8.5l.94-2.06 2.06-.94-2.06-.94L8.5 2.5l-.94 2.06-2.06.94zm10 10l.94 2.06.94-2.06 2.06-.94-2.06-.94-.94-2.06-.94 2.06-2.06.94z\"/><path d=\"M17.41 7.96l-1.37-1.37c-.4-.4-.92-.59-1.43-.59-.52 0-1.04.2-1.43.59L10.3 9.45l-7.72 7.72c-.78.78-.78 2.05 0 2.83L4 21.41c.39.39.9.59 1.41.59.51 0 1.02-.2 1.41-.59l7.78-7.78 2.81-2.81c.8-.78.8-2.07 0-2.86zM5.41 20L4 18.59l7.72-7.72 1.47 1.35L5.41 20z\"/>\n",
              "  </svg>\n",
              "      </button>\n",
              "      \n",
              "  <style>\n",
              "    .colab-df-container {\n",
              "      display:flex;\n",
              "      flex-wrap:wrap;\n",
              "      gap: 12px;\n",
              "    }\n",
              "\n",
              "    .colab-df-convert {\n",
              "      background-color: #E8F0FE;\n",
              "      border: none;\n",
              "      border-radius: 50%;\n",
              "      cursor: pointer;\n",
              "      display: none;\n",
              "      fill: #1967D2;\n",
              "      height: 32px;\n",
              "      padding: 0 0 0 0;\n",
              "      width: 32px;\n",
              "    }\n",
              "\n",
              "    .colab-df-convert:hover {\n",
              "      background-color: #E2EBFA;\n",
              "      box-shadow: 0px 1px 2px rgba(60, 64, 67, 0.3), 0px 1px 3px 1px rgba(60, 64, 67, 0.15);\n",
              "      fill: #174EA6;\n",
              "    }\n",
              "\n",
              "    [theme=dark] .colab-df-convert {\n",
              "      background-color: #3B4455;\n",
              "      fill: #D2E3FC;\n",
              "    }\n",
              "\n",
              "    [theme=dark] .colab-df-convert:hover {\n",
              "      background-color: #434B5C;\n",
              "      box-shadow: 0px 1px 3px 1px rgba(0, 0, 0, 0.15);\n",
              "      filter: drop-shadow(0px 1px 2px rgba(0, 0, 0, 0.3));\n",
              "      fill: #FFFFFF;\n",
              "    }\n",
              "  </style>\n",
              "\n",
              "      <script>\n",
              "        const buttonEl =\n",
              "          document.querySelector('#df-15572694-3651-452a-92f8-abef246d7247 button.colab-df-convert');\n",
              "        buttonEl.style.display =\n",
              "          google.colab.kernel.accessAllowed ? 'block' : 'none';\n",
              "\n",
              "        async function convertToInteractive(key) {\n",
              "          const element = document.querySelector('#df-15572694-3651-452a-92f8-abef246d7247');\n",
              "          const dataTable =\n",
              "            await google.colab.kernel.invokeFunction('convertToInteractive',\n",
              "                                                     [key], {});\n",
              "          if (!dataTable) return;\n",
              "\n",
              "          const docLinkHtml = 'Like what you see? Visit the ' +\n",
              "            '<a target=\"_blank\" href=https://colab.research.google.com/notebooks/data_table.ipynb>data table notebook</a>'\n",
              "            + ' to learn more about interactive tables.';\n",
              "          element.innerHTML = '';\n",
              "          dataTable['output_type'] = 'display_data';\n",
              "          await google.colab.output.renderOutput(dataTable, element);\n",
              "          const docLink = document.createElement('div');\n",
              "          docLink.innerHTML = docLinkHtml;\n",
              "          element.appendChild(docLink);\n",
              "        }\n",
              "      </script>\n",
              "    </div>\n",
              "  </div>\n",
              "  "
            ],
            "text/plain": [
              "               2         5         _         a         c         e         h  \\\n",
              "0       0.318604  0.159424  0.637207  0.318604  0.159302  0.187134  0.159302   \n",
              "1       0.096924  0.097046  0.678711  0.290771  0.193848  0.341553  0.290771   \n",
              "2       0.318604  0.159424  0.637207  0.318604  0.159302  0.187134  0.159302   \n",
              "3       0.288574  0.288818  0.433105  0.433105  0.288574  0.000000  0.433105   \n",
              "4       0.191162  0.095703  0.669434  0.286865  0.191162  0.336914  0.286865   \n",
              "...          ...       ...       ...       ...       ...       ...       ...   \n",
              "324094  0.096924  0.097046  0.678711  0.290771  0.193848  0.341553  0.290771   \n",
              "324095  0.165771  0.165894  0.663086  0.331543  0.165771  0.194702  0.165771   \n",
              "324096  0.318604  0.159424  0.637207  0.318604  0.159302  0.187134  0.159302   \n",
              "324097  0.318604  0.159424  0.637207  0.318604  0.159302  0.187134  0.159302   \n",
              "324098  0.288574  0.288818  0.433105  0.433105  0.288574  0.000000  0.433105   \n",
              "\n",
              "               l         s         t  \n",
              "0       0.159302  0.478027  0.159302  \n",
              "1       0.096924  0.387695  0.193848  \n",
              "2       0.159302  0.478027  0.159302  \n",
              "3       0.288574  0.288574  0.144287  \n",
              "4       0.095581  0.382324  0.191162  \n",
              "...          ...       ...       ...  \n",
              "324094  0.096924  0.387695  0.193848  \n",
              "324095  0.165771  0.497314  0.165771  \n",
              "324096  0.159302  0.478027  0.159302  \n",
              "324097  0.159302  0.478027  0.159302  \n",
              "324098  0.288574  0.288574  0.144287  \n",
              "\n",
              "[324099 rows x 10 columns]"
            ]
          },
          "execution_count": 41,
          "metadata": {},
          "output_type": "execute_result"
        }
      ],
      "source": [
        "train[CFG.FEATURES].head()"
      ]
    },
    {
      "cell_type": "markdown",
      "metadata": {
        "id": "0ahokylhH9zK"
      },
      "source": [
        "# Modeling"
      ]
    },
    {
      "cell_type": "code",
      "execution_count": 42,
      "metadata": {
        "id": "-BD_NFjXqh86"
      },
      "outputs": [],
      "source": [
        "# We will train two classification models (for os and browser)\n",
        "train['OS'] = train[CFG.TARGETS].iloc[:,:-4].idxmax(axis=1)\n",
        "train['browser'] = train[CFG.TARGETS].iloc[:,-4 :].idxmax(axis=1)"
      ]
    },
    {
      "cell_type": "code",
      "execution_count": null,
      "metadata": {
        "execution": {
          "iopub.execute_input": "2023-02-19T08:04:55.748586Z",
          "iopub.status.busy": "2023-02-19T08:04:55.748184Z"
        },
        "id": "M2QNYtGCID-M",
        "trusted": true
      },
      "outputs": [],
      "source": [
        "oof = train[['OS','browser']]\n",
        "folds = CFG.folds\n",
        "preds1=[]\n",
        "preds2 = []\n",
        "X= train[CFG.FEATURES]\n",
        "TEST= test[CFG.FEATURES]\n",
        "for j,targ in enumerate(['OS','browser']) : \n",
        "  y = train[targ]\n",
        "  print(50*'--')\n",
        "  print(f'Training k-Fold Model for Target {targ}')\n",
        "  print(50*'--')\n",
        "  for i,( train_index, test_index) in enumerate(folds.split(X, y)):\n",
        "\n",
        "      print(50*'--')\n",
        "      print(f'Fold {i+1}/{5}')\n",
        "      print(50*'--')\n",
        "\n",
        "      X_train, X_test, y_train, y_test = X.iloc[train_index], X.iloc[test_index], y.iloc[train_index], y.iloc[test_index]\n",
        "\n",
        "      # Train model\n",
        "\n",
        "      model = LGBMClassifier(n_estimators=2000,class_weight='balanced',feature_fraction=0.3)\n",
        "      model.fit(X_train,y_train,eval_set=[(X_train,y_train),(X_test, y_test)],verbose=100,early_stopping_rounds=50)\n",
        "\n",
        "      # Fold Evaluation\n",
        "\n",
        "      fold_pred   = model.predict(X_test)\n",
        "     \n",
        "      #update oof\n",
        "      oof.loc[test_index,f'preds_{targ}'] = fold_pred\n",
        "\n",
        "      # Test Evaluation\n",
        "      test_proba = model.predict_proba(TEST)\n",
        "      if j==0 :\n",
        "        preds1.append(test_proba)\n",
        "      else :\n",
        "        preds2.append(test_proba)"
      ]
    },
    {
      "cell_type": "markdown",
      "metadata": {
        "id": "jyHBBNm-rWzf"
      },
      "source": [
        "## Compute CV"
      ]
    },
    {
      "cell_type": "code",
      "execution_count": null,
      "metadata": {
        "id": "rVVVqfj7d9wD"
      },
      "outputs": [],
      "source": [
        "cv_loss = hamming_loss(pd.get_dummies(oof).iloc[:,:15],pd.get_dummies(oof).iloc[:,15:])\n",
        "print(f'Our cross validation score is {cv_loss}')"
      ]
    },
    {
      "cell_type": "markdown",
      "metadata": {
        "id": "ewmQ8oXcrgh0"
      },
      "source": [
        "## Lets viualize last model Features Importances"
      ]
    },
    {
      "cell_type": "code",
      "execution_count": 66,
      "metadata": {
        "id": "bTZOQ-1TXDwS"
      },
      "outputs": [],
      "source": [
        "feats_importance = pd.DataFrame()\n",
        "feats_importance['Importances'] = model.feature_importances_\n",
        "feats_importance['features'] = X.columns"
      ]
    },
    {
      "cell_type": "code",
      "execution_count": 67,
      "metadata": {
        "colab": {
          "base_uri": "https://localhost:8080/",
          "height": 948
        },
        "id": "5Ws-pbWnWuuf",
        "outputId": "5dcd1a15-f0cf-418e-baea-7125223d552e"
      },
      "outputs": [
        {
          "data": {
            "image/png": "[encoded data removed]",
            "text/plain": [
              "<Figure size 1152x1152 with 1 Axes>"
            ]
          },
          "metadata": {
            "needs_background": "light"
          },
          "output_type": "display_data"
        }
      ],
      "source": [
        "n_top_feats = 40\n",
        "plt.figure(figsize=(16, 16))\n",
        "sns.barplot(data=feats_importance.sort_values(by='Importances', ascending=False).head(n_top_feats), x='Importances', y='features');\n",
        "plt.title(f'{n_top_feats} TOP feature importance');"
      ]
    },
    {
      "cell_type": "markdown",
      "metadata": {
        "id": "Ia4LtO_eYZ2y"
      },
      "source": [
        "## Making Submission File"
      ]
    },
    {
      "cell_type": "code",
      "execution_count": null,
      "metadata": {
        "id": "s89WEj8OYb3V"
      },
      "outputs": [],
      "source": [
        "sub1 = pd.DataFrame(np.mean(preds1,0),columns=CFG.TARGETS[:11])\n",
        "sub2 = pd.DataFrame(np.mean(preds2,0),columns=CFG.TARGETS[11:])\n",
        "sub = pd.concat([sub1,sub2],1)\n",
        "for c in CFG.TARGETS :\n",
        "  sub[c] = (sub[c]>0.5)*1.0\n",
        "sub['ID'] = test['ID']\n",
        "sub.insert(0, 'ID', sub.pop('ID'))"
      ]
    },
    {
      "cell_type": "code",
      "execution_count": null,
      "metadata": {
        "id": "44o29lsbnFVk"
      },
      "outputs": [],
      "source": [
        "sub"
      ]
    },
    {
      "cell_type": "code",
      "execution_count": null,
      "metadata": {
        "id": "8vHxInkf4GcY"
      },
      "outputs": [],
      "source": [
        "sub.to_csv('GODS_Reacher_solution.csv',index=False)"
      ]
    },
    {
      "cell_type": "code",
      "execution_count": null,
      "metadata": {
        "id": "gKPLxLU0zEh4"
      },
      "outputs": [],
      "source": []
    }
  ],
  "metadata": {
    "colab": {
      "machine_shape": "hm",
      "provenance": []
    },
    "kernelspec": {
      "display_name": "Python 3",
      "language": "python",
      "name": "python3"
    },
    "language_info": {
      "codemirror_mode": {
        "name": "ipython",
        "version": 3
      },
      "file_extension": ".py",
      "mimetype": "text/x-python",
      "name": "python",
      "nbconvert_exporter": "python",
      "pygments_lexer": "ipython3",
      "version": "3.7.12"
    }
  },
  "nbformat": 4,
  "nbformat_minor": 0
}
